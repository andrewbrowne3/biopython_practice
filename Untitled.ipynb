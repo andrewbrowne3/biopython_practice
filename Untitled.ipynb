{
 "cells": [
  {
   "cell_type": "code",
   "execution_count": 8,
   "id": "438390e9",
   "metadata": {},
   "outputs": [],
   "source": [
    "\n",
    "from collections import Counter"
   ]
  },
  {
   "cell_type": "code",
   "execution_count": 9,
   "id": "f77a9eaf",
   "metadata": {},
   "outputs": [],
   "source": [
    "import Bio"
   ]
  },
  {
   "cell_type": "code",
   "execution_count": 10,
   "id": "60f436b5",
   "metadata": {},
   "outputs": [],
   "source": [
    "from Bio.Seq import Seq "
   ]
  },
  {
   "cell_type": "code",
   "execution_count": 11,
   "id": "0fbe5de0",
   "metadata": {},
   "outputs": [],
   "source": [
    "DNA = Seq('ATATACGCG')"
   ]
  },
  {
   "cell_type": "code",
   "execution_count": 12,
   "id": "727366c9",
   "metadata": {},
   "outputs": [],
   "source": [
    "RNA = DNA.transcribe()"
   ]
  },
  {
   "cell_type": "code",
   "execution_count": 13,
   "id": "853b27f9",
   "metadata": {},
   "outputs": [],
   "source": [
    "x = [DNA,RNA]\n",
    "def translate(x):\n",
    "    for i in x:\n",
    "        return i.translate()"
   ]
  },
  {
   "cell_type": "code",
   "execution_count": 14,
   "id": "54243aa2",
   "metadata": {},
   "outputs": [
    {
     "data": {
      "text/plain": [
       "Seq('IYA')"
      ]
     },
     "execution_count": 14,
     "metadata": {},
     "output_type": "execute_result"
    }
   ],
   "source": [
    "translate(x)"
   ]
  },
  {
   "cell_type": "code",
   "execution_count": 15,
   "id": "cdf34fab",
   "metadata": {},
   "outputs": [],
   "source": [
    "freq = Counter(RNA)"
   ]
  },
  {
   "cell_type": "code",
   "execution_count": 16,
   "id": "9cfb410d",
   "metadata": {},
   "outputs": [],
   "source": [
    "import matplotlib.pyplot as plt"
   ]
  },
  {
   "cell_type": "code",
   "execution_count": 17,
   "id": "6f6983fa",
   "metadata": {},
   "outputs": [
    {
     "data": {
      "text/plain": [
       "<BarContainer object of 4 artists>"
      ]
     },
     "execution_count": 17,
     "metadata": {},
     "output_type": "execute_result"
    },
    {
     "data": {
      "image/png": "[encoded data removed]",
      "text/plain": [
       "<Figure size 432x288 with 1 Axes>"
      ]
     },
     "metadata": {
      "needs_background": "light"
     },
     "output_type": "display_data"
    }
   ],
   "source": [
    "plt.bar(freq.keys(),freq.values())"
   ]
  },
  {
   "cell_type": "code",
   "execution_count": 18,
   "id": "d1fded18",
   "metadata": {},
   "outputs": [
    {
     "data": {
      "text/plain": [
       "Seq('ATATACGCG')"
      ]
     },
     "execution_count": 18,
     "metadata": {},
     "output_type": "execute_result"
    }
   ],
   "source": [
    "DNA.back_transcribe()"
   ]
  },
  {
   "cell_type": "code",
   "execution_count": 19,
   "id": "0857748f",
   "metadata": {},
   "outputs": [],
   "source": [
    "protein = DNA.translate()"
   ]
  },
  {
   "cell_type": "code",
   "execution_count": 20,
   "id": "ad4eb1ae",
   "metadata": {},
   "outputs": [],
   "source": [
    "from Bio.Data import CodonTable"
   ]
  },
  {
   "cell_type": "code",
   "execution_count": 21,
   "id": "05cf2958",
   "metadata": {},
   "outputs": [],
   "source": [
    "CodonTable?"
   ]
  },
  {
   "cell_type": "code",
   "execution_count": 22,
   "id": "8121c52e",
   "metadata": {},
   "outputs": [
    {
     "data": {
      "text/plain": [
       "['AmbiguousCodonTable',\n",
       " 'AmbiguousForwardTable',\n",
       " 'CodonTable',\n",
       " 'IUPACData',\n",
       " 'NCBICodonTable',\n",
       " 'NCBICodonTableDNA',\n",
       " 'NCBICodonTableRNA',\n",
       " 'TranslationError',\n",
       " '__builtins__',\n",
       " '__cached__',\n",
       " '__doc__',\n",
       " '__file__',\n",
       " '__loader__',\n",
       " '__name__',\n",
       " '__package__',\n",
       " '__spec__',\n",
       " 'ambiguous_dna_by_id',\n",
       " 'ambiguous_dna_by_name',\n",
       " 'ambiguous_generic_by_id',\n",
       " 'ambiguous_generic_by_name',\n",
       " 'ambiguous_rna_by_id',\n",
       " 'ambiguous_rna_by_name',\n",
       " 'generic_by_id',\n",
       " 'generic_by_name',\n",
       " 'list_ambiguous_codons',\n",
       " 'list_possible_proteins',\n",
       " 'make_back_table',\n",
       " 'register_ncbi_table',\n",
       " 'standard_dna_table',\n",
       " 'standard_rna_table',\n",
       " 'unambiguous_dna_by_id',\n",
       " 'unambiguous_dna_by_name',\n",
       " 'unambiguous_rna_by_id',\n",
       " 'unambiguous_rna_by_name']"
      ]
     },
     "execution_count": 22,
     "metadata": {},
     "output_type": "execute_result"
    }
   ],
   "source": [
    "dir(CodonTable)"
   ]
  },
  {
   "cell_type": "code",
   "execution_count": 23,
   "id": "ed23866d",
   "metadata": {},
   "outputs": [
    {
     "name": "stdout",
     "output_type": "stream",
     "text": [
      "Table 1 Standard, SGC0\n",
      "\n",
      "  |  T      |  C      |  A      |  G      |\n",
      "--+---------+---------+---------+---------+--\n",
      "T | TTT F   | TCT S   | TAT Y   | TGT C   | T\n",
      "T | TTC F   | TCC S   | TAC Y   | TGC C   | C\n",
      "T | TTA L   | TCA S   | TAA Stop| TGA Stop| A\n",
      "T | TTG L(s)| TCG S   | TAG Stop| TGG W   | G\n",
      "--+---------+---------+---------+---------+--\n",
      "C | CTT L   | CCT P   | CAT H   | CGT R   | T\n",
      "C | CTC L   | CCC P   | CAC H   | CGC R   | C\n",
      "C | CTA L   | CCA P   | CAA Q   | CGA R   | A\n",
      "C | CTG L(s)| CCG P   | CAG Q   | CGG R   | G\n",
      "--+---------+---------+---------+---------+--\n",
      "A | ATT I   | ACT T   | AAT N   | AGT S   | T\n",
      "A | ATC I   | ACC T   | AAC N   | AGC S   | C\n",
      "A | ATA I   | ACA T   | AAA K   | AGA R   | A\n",
      "A | ATG M(s)| ACG T   | AAG K   | AGG R   | G\n",
      "--+---------+---------+---------+---------+--\n",
      "G | GTT V   | GCT A   | GAT D   | GGT G   | T\n",
      "G | GTC V   | GCC A   | GAC D   | GGC G   | C\n",
      "G | GTA V   | GCA A   | GAA E   | GGA G   | A\n",
      "G | GTG V   | GCG A   | GAG E   | GGG G   | G\n",
      "--+---------+---------+---------+---------+--\n"
     ]
    }
   ],
   "source": [
    "print(CodonTable.unambiguous_dna_by_name['Standard'])"
   ]
  },
  {
   "cell_type": "code",
   "execution_count": 24,
   "id": "e3c66dfe",
   "metadata": {
    "scrolled": true
   },
   "outputs": [],
   "source": [
    "from Bio.SeqUtils import GC "
   ]
  },
  {
   "cell_type": "code",
   "execution_count": 25,
   "id": "ae3f0237",
   "metadata": {},
   "outputs": [],
   "source": [
    "from Bio.SeqUtils import MeltingTemp as mt"
   ]
  },
  {
   "cell_type": "code",
   "execution_count": null,
   "id": "11343a80",
   "metadata": {},
   "outputs": [],
   "source": []
  },
  {
   "cell_type": "code",
   "execution_count": 26,
   "id": "6d1adfac",
   "metadata": {},
   "outputs": [
    {
     "name": "stderr",
     "output_type": "stream",
     "text": [
      "/home/andrew/.local/lib/python3.10/site-packages/Bio/SeqUtils/__init__.py:144: BiopythonDeprecationWarning: GC is deprecated; please use gc_fraction instead.\n",
      "  warnings.warn(\n"
     ]
    },
    {
     "data": {
      "text/plain": [
       "44.44444444444444"
      ]
     },
     "execution_count": 26,
     "metadata": {},
     "output_type": "execute_result"
    }
   ],
   "source": [
    "GC(DNA)"
   ]
  },
  {
   "cell_type": "code",
   "execution_count": 27,
   "id": "48063700",
   "metadata": {},
   "outputs": [
    {
     "data": {
      "text/plain": [
       "26.0"
      ]
     },
     "execution_count": 27,
     "metadata": {},
     "output_type": "execute_result"
    }
   ],
   "source": [
    "mt.Tm_Wallace(DNA)"
   ]
  },
  {
   "cell_type": "code",
   "execution_count": 28,
   "id": "4a55766e",
   "metadata": {},
   "outputs": [
    {
     "data": {
      "text/plain": [
       "11.458457627533466"
      ]
     },
     "execution_count": 28,
     "metadata": {},
     "output_type": "execute_result"
    }
   ],
   "source": [
    "mt.Tm_GC(DNA)"
   ]
  },
  {
   "cell_type": "code",
   "execution_count": 29,
   "id": "7b805baa",
   "metadata": {},
   "outputs": [
    {
     "data": {
      "text/plain": [
       "2"
      ]
     },
     "execution_count": 29,
     "metadata": {},
     "output_type": "execute_result"
    }
   ],
   "source": [
    "DNA.count('T')"
   ]
  },
  {
   "cell_type": "code",
   "execution_count": 30,
   "id": "3378efa0",
   "metadata": {},
   "outputs": [],
   "source": [
    "from Bio.SeqUtils import GC123,GC_skew"
   ]
  },
  {
   "cell_type": "code",
   "execution_count": 31,
   "id": "40512860",
   "metadata": {},
   "outputs": [],
   "source": [
    "from Bio import pairwise2\n",
    "from Bio.pairwise2 import format_alignment"
   ]
  },
  {
   "cell_type": "code",
   "execution_count": 32,
   "id": "921ec0ad",
   "metadata": {},
   "outputs": [],
   "source": [
    "sequence1 = Seq('ATCCGT')\n",
    "sequence2 = Seq('ATTCG')"
   ]
  },
  {
   "cell_type": "code",
   "execution_count": 33,
   "id": "580e3675",
   "metadata": {},
   "outputs": [],
   "source": [
    "#alignment\n",
    "galignment = pairwise2.align.globalxx(sequence1,sequence2)"
   ]
  },
  {
   "cell_type": "code",
   "execution_count": 34,
   "id": "9f0d4046",
   "metadata": {},
   "outputs": [
    {
     "data": {
      "text/plain": [
       "[Alignment(seqA='ATC-CGT', seqB='AT-TCG-', score=4.0, start=0, end=7),\n",
       " Alignment(seqA='ATCCGT', seqB='ATTCG-', score=4.0, start=0, end=6),\n",
       " Alignment(seqA='A-TCCGT', seqB='ATT-CG-', score=4.0, start=0, end=7),\n",
       " Alignment(seqA='AT-CCGT', seqB='ATTC-G-', score=4.0, start=0, end=7),\n",
       " Alignment(seqA='A-TCCGT', seqB='ATTC-G-', score=4.0, start=0, end=7)]"
      ]
     },
     "execution_count": 34,
     "metadata": {},
     "output_type": "execute_result"
    }
   ],
   "source": [
    "galignment"
   ]
  },
  {
   "cell_type": "code",
   "execution_count": 35,
   "id": "312273a4",
   "metadata": {},
   "outputs": [
    {
     "name": "stdout",
     "output_type": "stream",
     "text": [
      "ATC-CGT\n",
      "||  || \n",
      "AT-TCG-\n",
      "  Score=4\n",
      "\n"
     ]
    }
   ],
   "source": [
    "#make the alignment look nicer \n",
    "print(format_alignment(*galignment[0]))"
   ]
  },
  {
   "cell_type": "code",
   "execution_count": 36,
   "id": "798f375c",
   "metadata": {},
   "outputs": [
    {
     "name": "stdout",
     "output_type": "stream",
     "text": [
      "ATC-CGT\n",
      "||  || \n",
      "AT-TCG-\n",
      "  Score=4\n",
      "\n",
      "ATCCGT\n",
      "||.|| \n",
      "ATTCG-\n",
      "  Score=4\n",
      "\n",
      "A-TCCGT\n",
      "| | || \n",
      "ATT-CG-\n",
      "  Score=4\n",
      "\n",
      "AT-CCGT\n",
      "|| | | \n",
      "ATTC-G-\n",
      "  Score=4\n",
      "\n",
      "A-TCCGT\n",
      "| || | \n",
      "ATTC-G-\n",
      "  Score=4\n",
      "\n"
     ]
    }
   ],
   "source": [
    "#View all\n",
    "for a in galignment:\n",
    "    print(format_alignment(*a))"
   ]
  },
  {
   "cell_type": "code",
   "execution_count": 37,
   "id": "ce0de898",
   "metadata": {},
   "outputs": [],
   "source": [
    "galignment = pairwise2.align.localxx(sequence1,sequence2)"
   ]
  },
  {
   "cell_type": "code",
   "execution_count": 38,
   "id": "c9bdaad5",
   "metadata": {},
   "outputs": [
    {
     "name": "stdout",
     "output_type": "stream",
     "text": [
      "1 ATC-CG\n",
      "  ||  ||\n",
      "1 AT-TCG\n",
      "  Score=4\n",
      "\n",
      "1 ATCCG\n",
      "  ||.||\n",
      "1 ATTCG\n",
      "  Score=4\n",
      "\n",
      "1 A-TCCG\n",
      "  | | ||\n",
      "1 ATT-CG\n",
      "  Score=4\n",
      "\n",
      "1 AT-CCG\n",
      "  || | |\n",
      "1 ATTC-G\n",
      "  Score=4\n",
      "\n",
      "1 A-TCCG\n",
      "  | || |\n",
      "1 ATTC-G\n",
      "  Score=4\n",
      "\n"
     ]
    }
   ],
   "source": [
    "for a in galignment:\n",
    "    print(format_alignment(*a))"
   ]
  },
  {
   "cell_type": "code",
   "execution_count": 44,
   "id": "6c3f321d",
   "metadata": {},
   "outputs": [],
   "source": [
    "from Bio.SeqUtils.IsoelectricPoint import IsoelectricPoint as IP\n",
    "from Bio.SeqUtils import molecular_weight as MW"
   ]
  },
  {
   "cell_type": "code",
   "execution_count": 49,
   "id": "dfa64411",
   "metadata": {},
   "outputs": [
    {
     "name": "stdout",
     "output_type": "stream",
     "text": [
      "12545.017499999987\n"
     ]
    },
    {
     "data": {
      "image/png": "[encoded data removed]",
      "text/plain": [
       "<Figure size 432x288 with 1 Axes>"
      ]
     },
     "metadata": {
      "needs_background": "light"
     },
     "output_type": "display_data"
    }
   ],
   "source": [
    "peptide = Seq('QRSAHELPMVERQDTDSCLVYGGQQMILTGQNFTSESKVVFTEKTTDGQQIWEMEATVDKDKSQPNMLFVEIPEYRNKHIRTPVKVNFYVINGKRKRSQPQHFTYHP')\n",
    "amino_acid = Counter(peptide)\n",
    "plt.bar(amino_acid.keys(),amino_acid.values())\n",
    "plt.xlabel(\"Amino acids\",fontsize=18)\n",
    "plt.ylabel('Frequency of Amino Acids',fontsize=18)\n",
    "molecular_weight_NFAT1 = MW(peptide, 'protein')\n",
    "print(molecular_weight_NFAT1)"
   ]
  },
  {
   "cell_type": "code",
   "execution_count": 41,
   "id": "f1a19309",
   "metadata": {
    "scrolled": true
   },
   "outputs": [
    {
     "name": "stdout",
     "output_type": "stream",
     "text": [
      "8.071586799621581\n"
     ]
    },
    {
     "data": {
      "text/plain": [
       "<BarContainer object of 1 artists>"
      ]
     },
     "execution_count": 41,
     "metadata": {},
     "output_type": "execute_result"
    },
    {
     "data": {
      "image/png": "[encoded data removed]",
      "text/plain": [
       "<Figure size 432x288 with 1 Axes>"
      ]
     },
     "metadata": {
      "needs_background": "light"
     },
     "output_type": "display_data"
    }
   ],
   "source": [
    "isoelectric_point_of_peptide = IP(peptide)\n",
    "print(isoelectric_point_of_peptide.pi())\n",
    "plt.bar('NFAT1',isoelectric_point_of_peptide.pi(),width=.05)"
   ]
  },
  {
   "cell_type": "code",
   "execution_count": 42,
   "id": "af4cda47",
   "metadata": {},
   "outputs": [
    {
     "data": {
      "text/plain": [
       "93"
      ]
     },
     "execution_count": 42,
     "metadata": {},
     "output_type": "execute_result"
    }
   ],
   "source": [
    "peptide.find('KRKR')"
   ]
  },
  {
   "cell_type": "code",
   "execution_count": 2,
   "id": "1ac23927",
   "metadata": {},
   "outputs": [],
   "source": [
    "from Bio import ExPASy"
   ]
  },
  {
   "cell_type": "code",
   "execution_count": null,
   "id": "1b7d8823",
   "metadata": {},
   "outputs": [],
   "source": []
  },
  {
   "cell_type": "code",
   "execution_count": null,
   "id": "493b503f",
   "metadata": {},
   "outputs": [],
   "source": []
  },
  {
   "cell_type": "code",
   "execution_count": null,
   "id": "4933c491",
   "metadata": {},
   "outputs": [],
   "source": [
    "#sequence simularity"
   ]
  },
  {
   "cell_type": "code",
   "execution_count": null,
   "id": "c3ab3c94",
   "metadata": {},
   "outputs": [],
   "source": [
    "#Cancer genome atlas access"
   ]
  },
  {
   "cell_type": "code",
   "execution_count": 69,
   "id": "f80b95f9",
   "metadata": {},
   "outputs": [
    {
     "name": "stdout",
     "output_type": "stream",
     "text": [
      "Defaulting to user installation because normal site-packages is not writeable\n",
      "\u001b[31mERROR: Could not find a version that satisfies the requirement pytcgabiolinks (from versions: none)\u001b[0m\u001b[31m\n",
      "\u001b[0m\u001b[31mERROR: No matching distribution found for pytcgabiolinks\u001b[0m\u001b[31m\n",
      "\u001b[0mNote: you may need to restart the kernel to use updated packages.\n"
     ]
    }
   ],
   "source": [
    "pip install pytcgabiolinks\n"
   ]
  },
  {
   "cell_type": "code",
   "execution_count": null,
   "id": "a61e0af7",
   "metadata": {},
   "outputs": [],
   "source": [
    "from pytcgabiolinks.api import TCGAbiolinks\n",
    "\n",
    "tcga = TCGAbiolinks()\n",
    "clin_data = tcga.get_clinical(\"BRCA\")\n"
   ]
  },
  {
   "cell_type": "code",
   "execution_count": 1,
   "id": "873164e7",
   "metadata": {},
   "outputs": [],
   "source": [
    "from Bio import Entrez, SeqIO"
   ]
  },
  {
   "cell_type": "code",
   "execution_count": 2,
   "id": "cd94ba5f",
   "metadata": {},
   "outputs": [],
   "source": [
    "Entrez.email ='asbrowne1@gsu.edu'\n"
   ]
  },
  {
   "cell_type": "code",
   "execution_count": 3,
   "id": "5d2cbaec",
   "metadata": {},
   "outputs": [
    {
     "name": "stdout",
     "output_type": "stream",
     "text": [
      "dict_keys(['DbList'])\n"
     ]
    }
   ],
   "source": [
    "handle = Entrez.einfo()\n",
    "rec = Entrez.read(handle)\n",
    "handle.close()\n",
    "print(rec.keys())"
   ]
  },
  {
   "cell_type": "code",
   "execution_count": 4,
   "id": "44a1b5be",
   "metadata": {},
   "outputs": [
    {
     "data": {
      "text/plain": [
       "['pubmed', 'protein', 'nuccore', 'ipg', 'nucleotide', 'structure', 'genome', 'annotinfo', 'assembly', 'bioproject', 'biosample', 'blastdbinfo', 'books', 'cdd', 'clinvar', 'gap', 'gapplus', 'grasp', 'dbvar', 'gene', 'gds', 'geoprofiles', 'homologene', 'medgen', 'mesh', 'nlmcatalog', 'omim', 'orgtrack', 'pmc', 'popset', 'proteinclusters', 'pcassay', 'protfam', 'pccompound', 'pcsubstance', 'seqannot', 'snp', 'sra', 'taxonomy', 'biocollections', 'gtr']"
      ]
     },
     "execution_count": 4,
     "metadata": {},
     "output_type": "execute_result"
    }
   ],
   "source": [
    "rec['DbList']"
   ]
  },
  {
   "cell_type": "code",
   "execution_count": null,
   "id": "4c68bf07",
   "metadata": {},
   "outputs": [],
   "source": []
  }
 ],
 "metadata": {
  "kernelspec": {
   "display_name": "Python 3 (ipykernel)",
   "language": "python",
   "name": "python3"
  },
  "language_info": {
   "codemirror_mode": {
    "name": "ipython",
    "version": 3
   },
   "file_extension": ".py",
   "mimetype": "text/x-python",
   "name": "python",
   "nbconvert_exporter": "python",
   "pygments_lexer": "ipython3",
   "version": "3.10.6"
  }
 },
 "nbformat": 4,
 "nbformat_minor": 5
}
